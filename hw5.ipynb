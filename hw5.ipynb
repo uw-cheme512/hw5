{
 "cells": [
  {
   "cell_type": "markdown",
   "metadata": {},
   "source": [
    "#### Problem 1 (Morbidelli 5.4) \n",
    "\n",
    "Classify the following PDEs in terms of linear, quasi-linear, and non-linear:\n",
    "\n",
    "1. $\\frac{\\partial z}{\\partial x}\\frac{\\partial^3 z}{\\partial y^3} + \\frac{\\partial^2 z}{\\partial y^2}\\frac{\\partial^2 z}{\\partial x^2} = x$\n",
    "2. $\\frac{\\partial^3 z}{\\partial x^3}\\frac{\\partial^3 z}{\\partial y^3} = xy $\n",
    "3. $\\frac{\\partial^3 z}{\\partial x^3} + x\\frac{\\partial^2 z}{\\partial y^2} + y\\frac{\\partial z}{\\partial x} = xy$\n",
    "4. $\\frac{\\partial^2 z}{\\partial t^2} + \\sqrt{z}(\\frac{\\partial^2 z}{\\partial x \\partial y})^3 - \\frac{\\partial z}{\\partial x}\\frac{\\partial z}{\\partial y} = \\frac{1}{z}$"
   ]
  },
  {
   "cell_type": "markdown",
   "metadata": {},
   "source": [
    "1. Quasi-linear: All terms enter linearly. Coefficients are functions of z.\n",
    "2. Quasi-linear. All terms enter linearly. Coefficients are functions of z.\n",
    "3. Linear. All terms enter linearly. Coefficients are just functions of x and y.\n",
    "4. Non-linear. Non-linear terms present (square root of z and a cubed third derivative)."
   ]
  },
  {
   "cell_type": "markdown",
   "metadata": {},
   "source": [
    "#### Problem 2 (Morbidelli 5.7)\n",
    "\n",
    "Consider the first-order PDE:\n",
    "\n",
    "$$z\\frac{\\partial z}{\\partial x} + \\frac{\\partial z}{\\partial y} = 0, \\text{       } -\\infty < \\xi < +\\infty $$ <br>\n",
    "\n",
    "along with the IC\n",
    "\n",
    "$$x = \\xi, y = 0, z = \\Phi(\\xi), \\text{with      } -\\infty < \\xi < +\\infty $$\n",
    "\n",
    "Plot the characteristic curves on the (x, y) plane and find the solution z(x,y)\n",
    "\n",
    "**Hint**: Assume some function form of $\\Phi$ to show final solution"
   ]
  },
  {
   "cell_type": "markdown",
   "metadata": {},
   "source": [
    "Solving for $\\xi$ and plugging into our equation for x gives:\n",
    "\n",
    "$$z = \\Phi(x - yz) $$\n",
    "\n",
    "This is an implicit equation, but there isn't really a way to solve for z, unless we know the function form of $\\Phi$."
   ]
  },
  {
   "cell_type": "markdown",
   "metadata": {},
   "source": [
    "#### Problem 3 (Morbidelli 5.8 + extra)\n",
    "\n",
    "Consider a fluid flowing with velocity v  through a pipe immersed in a bath of constant temperature $T_a$. The fluid temperature changes according to a heat balance:\n",
    "\n",
    "$$\\frac{\\partial T}{\\partial t} + v \\frac{\\partial T}{\\partial x} = U_0e^{-\\alpha t}(T_a - T)$$ <br>\n",
    "\n",
    "where $U_0$ is the initial heat transfer coefficient which decreases exponentially in time due to fouling. Determine the evolution of the fluid temperature assuming that it is initially constant and equal to $T_i$, while the fluid enters the pipe at $T = T_f$.\n",
    "\n",
    "In addition,\n",
    "\n",
    "1. Plot the two separate solutions for T(x,t) before taking into account the range of validity\n",
    "2. Plot the entire solution over the range of validity\n",
    "3. Re-plot while varying $U_0$, $\\alpha$, $T_i$, and $T_f$ and explain what is happening."
   ]
  },
  {
   "cell_type": "markdown",
   "metadata": {},
   "source": [
    "#### Problem 4\n",
    "\n",
    "Repeat problem 3 using a numerical method of your choosing (Euler forward, Euler backward, other). Only do Part 2 (plot final solution as a function of x and t)."
   ]
  },
  {
   "cell_type": "markdown",
   "metadata": {},
   "source": [
    "#### Problem 5 (Morbidelli 5.9)\n",
    "\n",
    "Consider a tubular reactor where a zeroth-order reaction is taking place. In this case, the heat balance (5.4.4) reduces to\n",
    "\n",
    "$$\\frac{\\partial \\theta}{\\partial t} + \\frac{\\partial \\theta}{\\partial x} = A(\\theta_j - \\theta) + Ge^{\\gamma (1 - \\frac{1}{\\theta})}, 0 < x < 1, t > 0 $$\n",
    "\n",
    "Develop the characteristic curves of the PDE. The evaluation of one of these requires numerical quadrature. Following the procedure, compute the transient temperature profile using $\\theta^0 - \\theta^l = 1$ for the initial conditions (5.4.5) and using $\\theta_j = 1, A = 0.5, G = 2$ for the dimensionless parameters.\n",
    "\n",
    "**Hint**: For the second part of the problem, use `scipy.optimize.newton` and some form of rectangular/trapezoidal integration. Use $\\gamma = 1$. It also may be easier to do problem 6 before trying problem 5.\n",
    "\n",
    "And **plot the results**"
   ]
  },
  {
   "cell_type": "markdown",
   "metadata": {},
   "source": [
    "#### Problem 6\n",
    "\n",
    "Solve problem 5 using numeric integration and plot the results"
   ]
  }
 ],
 "metadata": {
  "kernelspec": {
   "display_name": "Python 3",
   "language": "python",
   "name": "python3"
  },
  "language_info": {
   "codemirror_mode": {
    "name": "ipython",
    "version": 3
   },
   "file_extension": ".py",
   "mimetype": "text/x-python",
   "name": "python",
   "nbconvert_exporter": "python",
   "pygments_lexer": "ipython3",
   "version": "3.7.2"
  }
 },
 "nbformat": 4,
 "nbformat_minor": 2
}
